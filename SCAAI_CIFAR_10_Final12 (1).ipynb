{
  "nbformat": 4,
  "nbformat_minor": 0,
  "metadata": {
    "kernelspec": {
      "display_name": "Python 3",
      "language": "python",
      "name": "python3"
    },
    "language_info": {
      "codemirror_mode": {
        "name": "ipython",
        "version": 3
      },
      "file_extension": ".py",
      "mimetype": "text/x-python",
      "name": "python",
      "nbconvert_exporter": "python",
      "pygments_lexer": "ipython3",
      "version": "3.7.1"
    },
    "colab": {
      "name": "SCAAI CIFAR-10 Final12.ipynb",
      "provenance": [],
      "collapsed_sections": []
    },
    "accelerator": "GPU"
  },
  "cells": [
    {
      "cell_type": "markdown",
      "metadata": {
        "id": "uWvMLZaoSFoe",
        "colab_type": "text"
      },
      "source": [
        "# CIFAR-10\n",
        "- Loading Libraries\n",
        "- Data Preprocessing\n",
        "- Data Visualization\n",
        "- Classification Algorithm CNN\n",
        "- Results \n",
        "- Overall Output"
      ]
    },
    {
      "cell_type": "markdown",
      "metadata": {
        "id": "NFPuEZ1aSFof",
        "colab_type": "text"
      },
      "source": [
        "## Loading Libraries"
      ]
    },
    {
      "cell_type": "code",
      "metadata": {
        "id": "cQhnJyNbSFog",
        "colab_type": "code",
        "colab": {
          "base_uri": "https://localhost:8080/",
          "height": 34
        },
        "outputId": "3a4aea0a-ed6e-4123-bf2f-0af904178d90"
      },
      "source": [
        "from keras.datasets import cifar10\n",
        "import matplotlib.pyplot as plt\n",
        "import numpy as np\n",
        "from keras.utils import np_utils\n",
        "from keras.models import Sequential\n",
        "from keras.layers import Conv2D , MaxPooling2D , Flatten, Dense , Dropout\n",
        "from keras.callbacks import ModelCheckpoint\n",
        "from matplotlib import gridspec"
      ],
      "execution_count": 1,
      "outputs": [
        {
          "output_type": "stream",
          "text": [
            "Using TensorFlow backend.\n"
          ],
          "name": "stderr"
        }
      ]
    },
    {
      "cell_type": "markdown",
      "metadata": {
        "id": "jUGuK08iSFom",
        "colab_type": "text"
      },
      "source": [
        "## Data Preprocessing"
      ]
    },
    {
      "cell_type": "code",
      "metadata": {
        "id": "JdtiMBWUSFon",
        "colab_type": "code",
        "colab": {}
      },
      "source": [
        "(x_train,y_train),(x_test,y_test) = cifar10.load_data()"
      ],
      "execution_count": 2,
      "outputs": []
    },
    {
      "cell_type": "code",
      "metadata": {
        "id": "j1WueqA-SFoq",
        "colab_type": "code",
        "colab": {
          "base_uri": "https://localhost:8080/",
          "height": 68
        },
        "outputId": "87808ef4-8010-4b2c-9cf2-5d8c901a3bae"
      },
      "source": [
        "print(\"Training dataset has {} training samples\".format(len(y_train)))\n",
        "print(\"Testing dataset has {} testing samples\".format(len(y_test)))\n",
        "print(\"The shape of dataset is {} for images and {} for labels\".format(x_train.shape[1:], y_train.shape[1:]))"
      ],
      "execution_count": 3,
      "outputs": [
        {
          "output_type": "stream",
          "text": [
            "Training dataset has 50000 training samples\n",
            "Testing dataset has 10000 testing samples\n",
            "The shape of dataset is (32, 32, 3) for images and (1,) for labels\n"
          ],
          "name": "stdout"
        }
      ]
    },
    {
      "cell_type": "markdown",
      "metadata": {
        "id": "-PpPrxl-SFou",
        "colab_type": "text"
      },
      "source": [
        "There are 10 classes in CIFAR-10 the list is made accordingly"
      ]
    },
    {
      "cell_type": "code",
      "metadata": {
        "id": "OhRQgVMcSFou",
        "colab_type": "code",
        "colab": {}
      },
      "source": [
        "classes = [\"Airplane\", \"Automobile\" , \"Bird\" , \"Cat\" , \"Deer\" , \"Dog\" , \"Frog\" , \"Horse\" , \"Ship\" , \"Truck\"]"
      ],
      "execution_count": 4,
      "outputs": []
    },
    {
      "cell_type": "markdown",
      "metadata": {
        "id": "yzyEZWiFSFoz",
        "colab_type": "text"
      },
      "source": [
        "Filtering the data according to the labels"
      ]
    },
    {
      "cell_type": "code",
      "metadata": {
        "id": "MFc_Lfe7SFo0",
        "colab_type": "code",
        "colab": {}
      },
      "source": [
        "airplane = []\n",
        "automobile = []\n",
        "bird = []\n",
        "cat = []\n",
        "deer = []\n",
        "dog = []\n",
        "frog = []\n",
        "horse = []\n",
        "ship = []\n",
        "truck = []\n",
        "cifar = [airplane , automobile , bird , cat , deer , dog , frog , horse , ship , truck]"
      ],
      "execution_count": 5,
      "outputs": []
    },
    {
      "cell_type": "code",
      "metadata": {
        "id": "lvRji1fpSFo4",
        "colab_type": "code",
        "colab": {}
      },
      "source": [
        "# Making data into executable formate\n",
        "y_train= y_train.ravel()\n",
        "y_test = y_test.ravel()"
      ],
      "execution_count": 6,
      "outputs": []
    },
    {
      "cell_type": "code",
      "metadata": {
        "id": "gpPtr8ZGSFo7",
        "colab_type": "code",
        "colab": {
          "base_uri": "https://localhost:8080/",
          "height": 34
        },
        "outputId": "2c1dc967-e7bc-4a89-a030-723278d3b4ba"
      },
      "source": [
        "y_train"
      ],
      "execution_count": 7,
      "outputs": [
        {
          "output_type": "execute_result",
          "data": {
            "text/plain": [
              "array([6, 9, 9, ..., 9, 1, 1], dtype=uint8)"
            ]
          },
          "metadata": {
            "tags": []
          },
          "execution_count": 7
        }
      ]
    },
    {
      "cell_type": "code",
      "metadata": {
        "id": "Qt8n87JYSFo_",
        "colab_type": "code",
        "colab": {}
      },
      "source": [
        "for i in range(len(y_train)):\n",
        "    value = y_train[i]\n",
        "    cifar[value].append(x_train[i])\n",
        "for i in range(len(y_test)):\n",
        "    value = y_train[i]\n",
        "    cifar[value].append(x_train[i])"
      ],
      "execution_count": 8,
      "outputs": []
    },
    {
      "cell_type": "code",
      "metadata": {
        "id": "vAyzMNiDSFpC",
        "colab_type": "code",
        "colab": {
          "base_uri": "https://localhost:8080/",
          "height": 187
        },
        "outputId": "218c39a5-4a21-493e-93ce-fbac02cd760b"
      },
      "source": [
        "for i in range(len(cifar)):\n",
        "    print(\"Number of samples of {}  =  {} \".format(classes[i], len(cifar[i])))"
      ],
      "execution_count": 9,
      "outputs": [
        {
          "output_type": "stream",
          "text": [
            "Number of samples of Airplane  =  6005 \n",
            "Number of samples of Automobile  =  5974 \n",
            "Number of samples of Bird  =  6032 \n",
            "Number of samples of Cat  =  6016 \n",
            "Number of samples of Deer  =  5999 \n",
            "Number of samples of Dog  =  5937 \n",
            "Number of samples of Frog  =  6030 \n",
            "Number of samples of Horse  =  6001 \n",
            "Number of samples of Ship  =  6025 \n",
            "Number of samples of Truck  =  5981 \n"
          ],
          "name": "stdout"
        }
      ]
    },
    {
      "cell_type": "markdown",
      "metadata": {
        "id": "4bbQgwi_SFpE",
        "colab_type": "text"
      },
      "source": [
        "Making labels of the training executable for the model."
      ]
    },
    {
      "cell_type": "code",
      "metadata": {
        "id": "PXYO34feSFpF",
        "colab_type": "code",
        "colab": {}
      },
      "source": [
        "y_train_bin = np_utils.to_categorical(y_train, len(classes))\n",
        "y_test_bin = np_utils.to_categorical(y_test, len(classes))"
      ],
      "execution_count": 10,
      "outputs": []
    },
    {
      "cell_type": "code",
      "metadata": {
        "id": "OTv_OjqcSFpI",
        "colab_type": "code",
        "colab": {
          "base_uri": "https://localhost:8080/",
          "height": 34
        },
        "outputId": "46afb3c3-53a6-47b7-bea9-63c792f521a2"
      },
      "source": [
        "print(\"The machine can easily classify with binary format of data for example {}\".format(y_train_bin[0]))"
      ],
      "execution_count": 11,
      "outputs": [
        {
          "output_type": "stream",
          "text": [
            "The machine can easily classify with binary format of data for example [0. 0. 0. 0. 0. 0. 1. 0. 0. 0.]\n"
          ],
          "name": "stdout"
        }
      ]
    },
    {
      "cell_type": "markdown",
      "metadata": {
        "id": "fk2E86lvSFpL",
        "colab_type": "text"
      },
      "source": [
        "Extracting some data for validation testing "
      ]
    },
    {
      "cell_type": "markdown",
      "metadata": {
        "id": "vKGqV5W9SFpL",
        "colab_type": "text"
      },
      "source": [
        "In this model we are taking 10000 samples for validation testing"
      ]
    },
    {
      "cell_type": "code",
      "metadata": {
        "id": "W0BdDccuSFpM",
        "colab_type": "code",
        "colab": {}
      },
      "source": [
        "x_train,x_valid = x_train[10000:], x_train[:10000]\n",
        "y_train_bin,y_valid = y_train_bin[10000:], y_train_bin[:10000]\n",
        "y_train = y_train[10000:]"
      ],
      "execution_count": 12,
      "outputs": []
    },
    {
      "cell_type": "markdown",
      "metadata": {
        "id": "s5wI3f5dSFpO",
        "colab_type": "text"
      },
      "source": [
        "Shapes of the modified dataset is"
      ]
    },
    {
      "cell_type": "code",
      "metadata": {
        "id": "7EakdWPxSFpP",
        "colab_type": "code",
        "colab": {
          "base_uri": "https://localhost:8080/",
          "height": 170
        },
        "outputId": "be71bfd1-2128-4c1a-d0cd-70bfe3bd78de"
      },
      "source": [
        "print(\"Number of traing samples are :\")\n",
        "print(\"Images = \" , x_train.shape)\n",
        "print(\"Labels = \" , y_train_bin.shape)\n",
        "print(\"Number of testing examples are : \")\n",
        "print(\"Images = \" , x_test.shape)\n",
        "print(\"Lables = \", y_test.shape)\n",
        "print(\"Number of Validation examples are : \")\n",
        "print(\"Images = \" , x_valid.shape)\n",
        "print(\"Labels = \", y_valid.shape)"
      ],
      "execution_count": 13,
      "outputs": [
        {
          "output_type": "stream",
          "text": [
            "Number of traing samples are :\n",
            "Images =  (40000, 32, 32, 3)\n",
            "Labels =  (40000, 10)\n",
            "Number of testing examples are : \n",
            "Images =  (10000, 32, 32, 3)\n",
            "Lables =  (10000,)\n",
            "Number of Validation examples are : \n",
            "Images =  (10000, 32, 32, 3)\n",
            "Labels =  (10000, 10)\n"
          ],
          "name": "stdout"
        }
      ]
    },
    {
      "cell_type": "markdown",
      "metadata": {
        "id": "Sy9BBtMISFpR",
        "colab_type": "text"
      },
      "source": [
        "## Data Visualization"
      ]
    },
    {
      "cell_type": "markdown",
      "metadata": {
        "id": "mKoEKum-SFpS",
        "colab_type": "text"
      },
      "source": [
        "We are defining a function. With the help of this function you can visualize the images of each class.The number of rows and column is decided by the user"
      ]
    },
    {
      "cell_type": "code",
      "metadata": {
        "id": "5soDQkMTSFpS",
        "colab_type": "code",
        "colab": {}
      },
      "source": [
        "def Visualization():\n",
        "    row = int(input(\"Enter the value of row = \"))\n",
        "    column = int(input(\"Enter the value of Column = \"))\n",
        "    print(classes)\n",
        "    number = int(input(\"Enter the class number starting from 0= \"))\n",
        "    value = np.random.randint(0,5000)\n",
        "    if(value < row*column):\n",
        "        print(\"Please try with some lower values\")\n",
        "    else:    \n",
        "        fig = plt.figure(figsize=(10 , 10))\n",
        "        plt.gca().set_title(classes[number])\n",
        "        plt.axis(\"off\")\n",
        "        for i in range(row * column):\n",
        "            ax = fig.add_subplot(row,column, i+1, xticks=[], yticks=[])\n",
        "            ax.imshow(cifar[number][i+value])"
      ],
      "execution_count": 14,
      "outputs": []
    },
    {
      "cell_type": "code",
      "metadata": {
        "id": "cfQgg4YaSFpV",
        "colab_type": "code",
        "colab": {
          "base_uri": "https://localhost:8080/",
          "height": 662
        },
        "outputId": "db51225b-3cfb-468b-c5f2-344b08bbb827"
      },
      "source": [
        "Visualization()"
      ],
      "execution_count": 15,
      "outputs": [
        {
          "output_type": "stream",
          "text": [
            "Enter the value of row = 4\n",
            "Enter the value of Column = 4\n",
            "['Airplane', 'Automobile', 'Bird', 'Cat', 'Deer', 'Dog', 'Frog', 'Horse', 'Ship', 'Truck']\n",
            "Enter the class number starting from 0= 0\n"
          ],
          "name": "stdout"
        },
        {
          "output_type": "display_data",
          "data": {
            "image/png": "[encoded data removed]",
            "text/plain": [
              "<Figure size 720x720 with 17 Axes>"
            ]
          },
          "metadata": {
            "tags": [],
            "needs_background": "light"
          }
        }
      ]
    },
    {
      "cell_type": "markdown",
      "metadata": {
        "id": "ouv21HJRSFpY",
        "colab_type": "text"
      },
      "source": [
        "You can visualize the data. Just uncomment the below code block and execute the function. This function will give random images of a particular class."
      ]
    },
    {
      "cell_type": "code",
      "metadata": {
        "id": "cgPeK8WTSFpY",
        "colab_type": "code",
        "colab": {}
      },
      "source": [
        "#Visualization()"
      ],
      "execution_count": 16,
      "outputs": []
    },
    {
      "cell_type": "markdown",
      "metadata": {
        "id": "P_1bdgq_SFpc",
        "colab_type": "text"
      },
      "source": [
        "## Preparing CNN Model for Classification"
      ]
    },
    {
      "cell_type": "code",
      "metadata": {
        "id": "7llvdeorSFpd",
        "colab_type": "code",
        "colab": {
          "base_uri": "https://localhost:8080/",
          "height": 629
        },
        "outputId": "c868d00b-ba52-4f0f-b26e-f960344dd237"
      },
      "source": [
        "model=Sequential()\n",
        "model.add(Conv2D(kernel_size=(3,3),filters=5,input_shape=(32,32,3),activation=\"relu\"))\n",
        "model.add(Conv2D(kernel_size=(2,2),filters=10,activation=\"relu\",padding=\"same\"))\n",
        "model.add(MaxPooling2D(pool_size=(3,3),strides=(2,2)))\n",
        "model.add(Conv2D(kernel_size=(2,2),filters=5,activation=\"relu\"))\n",
        "model.add(Conv2D(kernel_size=(4,4),filters=10,activation=\"relu\"))\n",
        "model.add(MaxPooling2D(pool_size=(2,2),strides=(2,2)))\n",
        "model.add(Conv2D(kernel_size=(1,1),strides=(2,2),filters=10))\n",
        "model.add(Flatten())\n",
        "model.add(Dropout(0.1))\n",
        "model.add(Dense(5000,activation=\"relu\"))\n",
        "model.add(Dense(1000,activation=\"relu\"))\n",
        "model.add(Dense(500,activation=\"relu\"))\n",
        "model.add(Dense(100,activation=\"relu\"))\n",
        "model.add(Dense(10,activation=\"softmax\"))\n",
        "model.summary()\n",
        "\n",
        "filepath=\"./saved_models/best_model_6k96_ignore.hdf5\"\n",
        "checkpoint = ModelCheckpoint(filepath, monitor='val_acc', verbose=1, save_best_only=True, mode='max')\n",
        "model.compile(optimizer=\"adadelta\",loss=\"categorical_crossentropy\",metrics=[\"accuracy\"])"
      ],
      "execution_count": 17,
      "outputs": [
        {
          "output_type": "stream",
          "text": [
            "Model: \"sequential_1\"\n",
            "_________________________________________________________________\n",
            "Layer (type)                 Output Shape              Param #   \n",
            "=================================================================\n",
            "conv2d_1 (Conv2D)            (None, 30, 30, 5)         140       \n",
            "_________________________________________________________________\n",
            "conv2d_2 (Conv2D)            (None, 30, 30, 10)        210       \n",
            "_________________________________________________________________\n",
            "max_pooling2d_1 (MaxPooling2 (None, 14, 14, 10)        0         \n",
            "_________________________________________________________________\n",
            "conv2d_3 (Conv2D)            (None, 13, 13, 5)         205       \n",
            "_________________________________________________________________\n",
            "conv2d_4 (Conv2D)            (None, 10, 10, 10)        810       \n",
            "_________________________________________________________________\n",
            "max_pooling2d_2 (MaxPooling2 (None, 5, 5, 10)          0         \n",
            "_________________________________________________________________\n",
            "conv2d_5 (Conv2D)            (None, 3, 3, 10)          110       \n",
            "_________________________________________________________________\n",
            "flatten_1 (Flatten)          (None, 90)                0         \n",
            "_________________________________________________________________\n",
            "dropout_1 (Dropout)          (None, 90)                0         \n",
            "_________________________________________________________________\n",
            "dense_1 (Dense)              (None, 5000)              455000    \n",
            "_________________________________________________________________\n",
            "dense_2 (Dense)              (None, 1000)              5001000   \n",
            "_________________________________________________________________\n",
            "dense_3 (Dense)              (None, 500)               500500    \n",
            "_________________________________________________________________\n",
            "dense_4 (Dense)              (None, 100)               50100     \n",
            "_________________________________________________________________\n",
            "dense_5 (Dense)              (None, 10)                1010      \n",
            "=================================================================\n",
            "Total params: 6,009,085\n",
            "Trainable params: 6,009,085\n",
            "Non-trainable params: 0\n",
            "_________________________________________________________________\n"
          ],
          "name": "stdout"
        }
      ]
    },
    {
      "cell_type": "code",
      "metadata": {
        "id": "lljwNMh9SFpf",
        "colab_type": "code",
        "colab": {
          "base_uri": "https://localhost:8080/",
          "height": 258
        },
        "outputId": "99bace27-8951-426a-dd06-c5a5b5e115dc"
      },
      "source": [
        "history = model.fit(x_train,y_train_bin, validation_data=(x_valid,y_valid),batch_size=64,epochs=5,callbacks=[checkpoint])"
      ],
      "execution_count": 18,
      "outputs": [
        {
          "output_type": "stream",
          "text": [
            "Train on 40000 samples, validate on 10000 samples\n",
            "Epoch 1/5\n",
            "40000/40000 [==============================] - 10s 246us/step - loss: 1.9380 - accuracy: 0.3096 - val_loss: 1.6469 - val_accuracy: 0.4084\n",
            "Epoch 2/5\n",
            " 1024/40000 [..............................] - ETA: 7s - loss: 1.7613 - accuracy: 0.3623"
          ],
          "name": "stdout"
        },
        {
          "output_type": "stream",
          "text": [
            "/usr/local/lib/python3.6/dist-packages/keras/callbacks/callbacks.py:707: RuntimeWarning: Can save best model only with val_acc available, skipping.\n",
            "  'skipping.' % (self.monitor), RuntimeWarning)\n"
          ],
          "name": "stderr"
        },
        {
          "output_type": "stream",
          "text": [
            "40000/40000 [==============================] - 7s 184us/step - loss: 1.6424 - accuracy: 0.4160 - val_loss: 1.5475 - val_accuracy: 0.4447\n",
            "Epoch 3/5\n",
            "40000/40000 [==============================] - 7s 179us/step - loss: 1.5070 - accuracy: 0.4669 - val_loss: 1.4344 - val_accuracy: 0.4890\n",
            "Epoch 4/5\n",
            "40000/40000 [==============================] - 7s 181us/step - loss: 1.3927 - accuracy: 0.5102 - val_loss: 1.3250 - val_accuracy: 0.5346\n",
            "Epoch 5/5\n",
            "40000/40000 [==============================] - 7s 184us/step - loss: 1.3057 - accuracy: 0.5400 - val_loss: 1.2893 - val_accuracy: 0.5473\n"
          ],
          "name": "stdout"
        }
      ]
    },
    {
      "cell_type": "markdown",
      "metadata": {
        "id": "imcapjpOSFph",
        "colab_type": "text"
      },
      "source": [
        "## Testing of Classification Algorithm CNN"
      ]
    },
    {
      "cell_type": "code",
      "metadata": {
        "id": "viD_zWzKSFpj",
        "colab_type": "code",
        "colab": {}
      },
      "source": [
        "def Testing():\n",
        "    def get_preds(x,model):\n",
        "        x = np.reshape(x,(1,32,32,3))\n",
        "        pr = model.predict(x)    \n",
        "        pr = np.array(pr)[0]\n",
        "        idx = np.argmax(pr)\n",
        "        conf = round(pr[idx]*100,2)\n",
        "        lab = classes[idx]\n",
        "        return lab,conf,idx\n",
        "    \n",
        "    plt.figure(figsize = (20,20))\n",
        "    gs1 = gridspec.GridSpec(3, 3)\n",
        "    gs1.update(wspace=0.025, hspace=0.5)\n",
        "    padding = 5\n",
        "    value = np.random.randint(0, 950)\n",
        "    for i in range(0, 9):\n",
        "        plt.subplots_adjust(left=None, bottom=None, right=None, top=None, wspace=0.4, hspace=None)\n",
        "        ax1 = plt.subplot(gs1[i])\n",
        "        ax1.axis(\"off\")\n",
        "        pr,conf,idx = get_preds(x_test[i+value],model)\n",
        "    \n",
        "        ax1.annotate(\n",
        "        s = '{0}:{1}% ({2})'.format(pr,conf , classes[y_test[i+value]]),\n",
        "        color=(\"green\" if idx == y_test[i+value] else \"red\"),\n",
        "        fontsize = 15,\n",
        "        xy=(0, 0), \n",
        "        xytext=(padding-1, -(padding-1)), \n",
        "        textcoords = 'offset pixels',\n",
        "        bbox=dict(facecolor='white', alpha=1, pad=padding),\n",
        "        va='top',\n",
        "        ha='left',\n",
        "        )\n",
        "        ax1.imshow(x_test[i+value])"
      ],
      "execution_count": 19,
      "outputs": []
    },
    {
      "cell_type": "markdown",
      "metadata": {
        "id": "DHzlDP5wvSs5",
        "colab_type": "text"
      },
      "source": [
        "To test the function , execute the below function"
      ]
    },
    {
      "cell_type": "code",
      "metadata": {
        "id": "vTvI0SNWSFpm",
        "colab_type": "code",
        "colab": {
          "base_uri": "https://localhost:8080/",
          "height": 1000
        },
        "outputId": "82c26ef3-9c8e-4fe5-ed70-4f46e9bd7c60"
      },
      "source": [
        "Testing()"
      ],
      "execution_count": 20,
      "outputs": [
        {
          "output_type": "display_data",
          "data": {
            "image/png": "[encoded data removed]",
            "text/plain": [
              "<Figure size 1440x1440 with 9 Axes>"
            ]
          },
          "metadata": {
            "tags": [],
            "needs_background": "light"
          }
        }
      ]
    },
    {
      "cell_type": "markdown",
      "metadata": {
        "id": "2GV_8q_9YrMl",
        "colab_type": "text"
      },
      "source": [
        "## Results and Evaluation"
      ]
    },
    {
      "cell_type": "code",
      "metadata": {
        "id": "qtqxpQg1SFpp",
        "colab_type": "code",
        "colab": {
          "base_uri": "https://localhost:8080/",
          "height": 590
        },
        "outputId": "5279f2c2-c31f-4854-8717-945f332e346a"
      },
      "source": [
        "def Results():\n",
        "    print(history.history.keys())\n",
        "    # summarize history for accuracy\n",
        "    plt.plot(history.history['accuracy'], marker = \"o\")\n",
        "    plt.plot(history.history['val_accuracy'], marker = \"<\")\n",
        "    plt.title('Model accuracy')\n",
        "    plt.ylabel('Accuracy')\n",
        "    plt.xlabel('Epoch')\n",
        "    plt.legend(['Train accuracy', 'Validation accuracy'], loc='upper left')\n",
        "    plt.show()\n",
        "    # summarize history for loss\n",
        "    plt.plot(history.history['loss'], marker = \"o\")\n",
        "    plt.plot(history.history['val_loss'] , marker = \"<\")\n",
        "    plt.title('Model loss')\n",
        "    plt.ylabel('Loss')\n",
        "    plt.xlabel('Epoch')\n",
        "    plt.legend(['Train loss', 'Validation loss'], loc='upper left')\n",
        "    plt.show()\n",
        "Results()"
      ],
      "execution_count": 21,
      "outputs": [
        {
          "output_type": "stream",
          "text": [
            "dict_keys(['val_loss', 'val_accuracy', 'loss', 'accuracy'])\n"
          ],
          "name": "stdout"
        },
        {
          "output_type": "display_data",
          "data": {
            "image/png": "[encoded data removed]",
            "text/plain": [
              "<Figure size 432x288 with 1 Axes>"
            ]
          },
          "metadata": {
            "tags": [],
            "needs_background": "light"
          }
        },
        {
          "output_type": "display_data",
          "data": {
            "image/png": "[encoded data removed]",
            "text/plain": [
              "<Figure size 432x288 with 1 Axes>"
            ]
          },
          "metadata": {
            "tags": [],
            "needs_background": "light"
          }
        }
      ]
    },
    {
      "cell_type": "code",
      "metadata": {
        "id": "YrHCD4dPSFps",
        "colab_type": "code",
        "colab": {
          "base_uri": "https://localhost:8080/",
          "height": 34
        },
        "outputId": "9c46e429-b9a3-4724-8c95-a4bd2a91ca10"
      },
      "source": [
        "accuracy= model.evaluate(x_test, y_test_bin)"
      ],
      "execution_count": 22,
      "outputs": [
        {
          "output_type": "stream",
          "text": [
            "10000/10000 [==============================] - 1s 105us/step\n"
          ],
          "name": "stdout"
        }
      ]
    },
    {
      "cell_type": "markdown",
      "metadata": {
        "id": "HzuzSkkIj8U_",
        "colab_type": "text"
      },
      "source": [
        "## Final Output Function"
      ]
    },
    {
      "cell_type": "code",
      "metadata": {
        "id": "1Qt7i2N_SFpu",
        "colab_type": "code",
        "colab": {}
      },
      "source": [
        "def main():\n",
        "    print(\"You can check all the possible dunction here as well\")\n",
        "    print(\"Press 1 for data visualization\")\n",
        "    print(\"Press 2 for Testing the model\")\n",
        "    print(\"Press 3 for Results \")\n",
        "    print(\"Press 4 to check the accuracy\")\n",
        "    number = int(input(\"Enter the number here = \"))\n",
        "    if(number == 1):\n",
        "        Visualization()\n",
        "    elif(number == 2):\n",
        "        Testing()\n",
        "    elif(number == 3):\n",
        "        Results()\n",
        "    elif(number == 4):\n",
        "        print(\"Accuracy is = {}%\".format(round(accuracy[1]*100,2)))\n",
        "    else:\n",
        "        print(\"Incorrect input\")"
      ],
      "execution_count": 23,
      "outputs": []
    },
    {
      "cell_type": "markdown",
      "metadata": {
        "id": "p1QGqch-mYdy",
        "colab_type": "text"
      },
      "source": [
        "Just uncomment the below code block and execute the main function for overall project"
      ]
    },
    {
      "cell_type": "code",
      "metadata": {
        "id": "HqukV1XjSFpy",
        "colab_type": "code",
        "colab": {}
      },
      "source": [
        "#main() # uncomment this line"
      ],
      "execution_count": 24,
      "outputs": []
    },
    {
      "cell_type": "code",
      "metadata": {
        "id": "3zStmAUASFp1",
        "colab_type": "code",
        "colab": {}
      },
      "source": [
        ""
      ],
      "execution_count": 25,
      "outputs": []
    },
    {
      "cell_type": "code",
      "metadata": {
        "id": "tzg7CpCnSFp3",
        "colab_type": "code",
        "colab": {}
      },
      "source": [
        ""
      ],
      "execution_count": null,
      "outputs": []
    },
    {
      "cell_type": "code",
      "metadata": {
        "id": "NjmahFbdSFp6",
        "colab_type": "code",
        "colab": {}
      },
      "source": [
        ""
      ],
      "execution_count": null,
      "outputs": []
    },
    {
      "cell_type": "code",
      "metadata": {
        "id": "mtyrkgHaSFp8",
        "colab_type": "code",
        "colab": {}
      },
      "source": [
        ""
      ],
      "execution_count": null,
      "outputs": []
    },
    {
      "cell_type": "code",
      "metadata": {
        "id": "VS_LSbM9SFqB",
        "colab_type": "code",
        "colab": {}
      },
      "source": [
        ""
      ],
      "execution_count": null,
      "outputs": []
    },
    {
      "cell_type": "code",
      "metadata": {
        "id": "YvstvUDuSFqD",
        "colab_type": "code",
        "colab": {}
      },
      "source": [
        ""
      ],
      "execution_count": null,
      "outputs": []
    },
    {
      "cell_type": "code",
      "metadata": {
        "id": "xA__Q85zSFqG",
        "colab_type": "code",
        "colab": {}
      },
      "source": [
        ""
      ],
      "execution_count": null,
      "outputs": []
    },
    {
      "cell_type": "code",
      "metadata": {
        "id": "XeC4JQUaSFqI",
        "colab_type": "code",
        "colab": {}
      },
      "source": [
        ""
      ],
      "execution_count": null,
      "outputs": []
    },
    {
      "cell_type": "code",
      "metadata": {
        "id": "aHxDTw_2SFqK",
        "colab_type": "code",
        "colab": {}
      },
      "source": [
        ""
      ],
      "execution_count": null,
      "outputs": []
    },
    {
      "cell_type": "code",
      "metadata": {
        "id": "NEBV_QHxSFqM",
        "colab_type": "code",
        "colab": {}
      },
      "source": [
        ""
      ],
      "execution_count": null,
      "outputs": []
    },
    {
      "cell_type": "code",
      "metadata": {
        "id": "l7jNx3-4SFqP",
        "colab_type": "code",
        "colab": {}
      },
      "source": [
        ""
      ],
      "execution_count": null,
      "outputs": []
    },
    {
      "cell_type": "code",
      "metadata": {
        "id": "u2GEFqn6SFqR",
        "colab_type": "code",
        "colab": {}
      },
      "source": [
        ""
      ],
      "execution_count": null,
      "outputs": []
    },
    {
      "cell_type": "code",
      "metadata": {
        "id": "BP4EOHkvSFqT",
        "colab_type": "code",
        "colab": {}
      },
      "source": [
        ""
      ],
      "execution_count": null,
      "outputs": []
    },
    {
      "cell_type": "code",
      "metadata": {
        "id": "ncRPehuySFqW",
        "colab_type": "code",
        "colab": {}
      },
      "source": [
        ""
      ],
      "execution_count": null,
      "outputs": []
    },
    {
      "cell_type": "code",
      "metadata": {
        "id": "9c8lRjCoSFqa",
        "colab_type": "code",
        "colab": {}
      },
      "source": [
        ""
      ],
      "execution_count": null,
      "outputs": []
    },
    {
      "cell_type": "code",
      "metadata": {
        "id": "4_dHcXhqSFqd",
        "colab_type": "code",
        "colab": {}
      },
      "source": [
        ""
      ],
      "execution_count": null,
      "outputs": []
    },
    {
      "cell_type": "code",
      "metadata": {
        "id": "Q_G-er4LSFqf",
        "colab_type": "code",
        "colab": {}
      },
      "source": [
        ""
      ],
      "execution_count": null,
      "outputs": []
    },
    {
      "cell_type": "code",
      "metadata": {
        "id": "XGnsu259SFql",
        "colab_type": "code",
        "colab": {}
      },
      "source": [
        ""
      ],
      "execution_count": null,
      "outputs": []
    },
    {
      "cell_type": "code",
      "metadata": {
        "id": "vS2gDT1xSFqo",
        "colab_type": "code",
        "colab": {}
      },
      "source": [
        ""
      ],
      "execution_count": null,
      "outputs": []
    },
    {
      "cell_type": "code",
      "metadata": {
        "id": "SeEJT6GbSFqs",
        "colab_type": "code",
        "colab": {}
      },
      "source": [
        ""
      ],
      "execution_count": null,
      "outputs": []
    },
    {
      "cell_type": "code",
      "metadata": {
        "id": "xUTAYTlRSFqv",
        "colab_type": "code",
        "colab": {}
      },
      "source": [
        ""
      ],
      "execution_count": null,
      "outputs": []
    },
    {
      "cell_type": "code",
      "metadata": {
        "id": "MIojkawFSFqx",
        "colab_type": "code",
        "colab": {}
      },
      "source": [
        ""
      ],
      "execution_count": null,
      "outputs": []
    },
    {
      "cell_type": "code",
      "metadata": {
        "id": "AQTr0IfMSFqz",
        "colab_type": "code",
        "colab": {}
      },
      "source": [
        ""
      ],
      "execution_count": null,
      "outputs": []
    },
    {
      "cell_type": "code",
      "metadata": {
        "id": "7B1CrRO0SFq1",
        "colab_type": "code",
        "colab": {}
      },
      "source": [
        ""
      ],
      "execution_count": null,
      "outputs": []
    },
    {
      "cell_type": "code",
      "metadata": {
        "id": "LvJnCMGDSFq4",
        "colab_type": "code",
        "colab": {}
      },
      "source": [
        ""
      ],
      "execution_count": null,
      "outputs": []
    },
    {
      "cell_type": "code",
      "metadata": {
        "id": "LHz5IwiMSFq6",
        "colab_type": "code",
        "colab": {}
      },
      "source": [
        ""
      ],
      "execution_count": null,
      "outputs": []
    },
    {
      "cell_type": "code",
      "metadata": {
        "id": "qPCzDIhASFq-",
        "colab_type": "code",
        "colab": {}
      },
      "source": [
        ""
      ],
      "execution_count": null,
      "outputs": []
    },
    {
      "cell_type": "code",
      "metadata": {
        "id": "W0PdBGEGSFrB",
        "colab_type": "code",
        "colab": {}
      },
      "source": [
        ""
      ],
      "execution_count": null,
      "outputs": []
    },
    {
      "cell_type": "code",
      "metadata": {
        "id": "UwC65bUaSFrF",
        "colab_type": "code",
        "colab": {}
      },
      "source": [
        ""
      ],
      "execution_count": null,
      "outputs": []
    },
    {
      "cell_type": "code",
      "metadata": {
        "id": "wjrtyTvoSFrH",
        "colab_type": "code",
        "colab": {}
      },
      "source": [
        ""
      ],
      "execution_count": null,
      "outputs": []
    },
    {
      "cell_type": "code",
      "metadata": {
        "id": "dsrKhDlUSFrM",
        "colab_type": "code",
        "colab": {}
      },
      "source": [
        ""
      ],
      "execution_count": null,
      "outputs": []
    },
    {
      "cell_type": "code",
      "metadata": {
        "id": "-sVhS0KzSFrO",
        "colab_type": "code",
        "colab": {}
      },
      "source": [
        ""
      ],
      "execution_count": null,
      "outputs": []
    },
    {
      "cell_type": "code",
      "metadata": {
        "id": "eHGv6ad_SFrR",
        "colab_type": "code",
        "colab": {}
      },
      "source": [
        ""
      ],
      "execution_count": null,
      "outputs": []
    },
    {
      "cell_type": "code",
      "metadata": {
        "id": "6WppCpE3SFrU",
        "colab_type": "code",
        "colab": {}
      },
      "source": [
        ""
      ],
      "execution_count": null,
      "outputs": []
    }
  ]
}